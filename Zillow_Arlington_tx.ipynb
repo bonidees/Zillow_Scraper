{
 "cells": [
  {
   "cell_type": "markdown",
   "metadata": {},
   "source": [
    "# Project Goal: To web scrape zillow's website and get the name, and details of the places being listed for rent in Arlington Tx and write it out to a CSV file using Pandas."
   ]
  },
  {
   "cell_type": "code",
   "execution_count": 27,
   "metadata": {},
   "outputs": [],
   "source": [
    "# Imported libraries needed \n",
    "from selenium import webdriver\n",
    "from selenium.webdriver.support.ui import WebDriverWait"
   ]
  },
  {
   "cell_type": "code",
   "execution_count": 72,
   "metadata": {},
   "outputs": [],
   "source": [
    "# Folder path for your chrome web browser driver\n",
    "PATH  = '/chromedriver'\n",
    "\n",
    "# Picks the chromedriver and passes your driver path into it\n",
    "driver = webdriver.Chrome(PATH)\n",
    "\n",
    "# Zillows website link for the rental properties being listed{string interpolation} for page #'s\n",
    "request_url = \"https://www.zillow.com/arlington-tx/rentals/{}_p\"\n",
    "\n",
    "name = []\n",
    "details = []\n",
    "address = []\n",
    "\n",
    "# Iterating through a range (in reference to the page #'s) and grabbing name,details,address.\n",
    "for page in range(1,6):\n",
    "    \n",
    "    # Formats the zillow's website link with the page #\n",
    "    base_url = request_url.format(page)\n",
    "\n",
    "    driver.get(base_url)\n",
    "\n",
    "    # Implicit wait for 30 secs\n",
    "    wait = driver.implicitly_wait(60)\n",
    "    \n",
    "    # Grabs the all the search result element in a page \n",
    "    main = driver.find_element_by_id(\"search-page-list-container\")\n",
    "    \n",
    "    # Grabs the class name that contains all the listing info\n",
    "    card_info = main.find_elements_by_class_name('list-card-info')\n",
    "    \n",
    "    # Iterates through all on the listing on the page and appends all the info into their list.\n",
    "    for listing in card_info:\n",
    "        name.append(listing.find_element_by_class_name('list-card-footer').text)\n",
    "        address.append(listing.find_element_by_class_name('list-card-addr').text)\n",
    "        details.append(listing.find_element_by_class_name('list-card-heading').text)\n",
    "    \n",
    "        # Wait for 60 secs\n",
    "        wait"
   ]
  },
  {
   "cell_type": "code",
   "execution_count": 73,
   "metadata": {},
   "outputs": [],
   "source": [
    "# Quits your session.\n",
    "driver.quit()"
   ]
  },
  {
   "cell_type": "code",
   "execution_count": 74,
   "metadata": {},
   "outputs": [],
   "source": [
    "# Dictionary that stores the listing scraped\n",
    "zillow_data = {}\n",
    "\n",
    "zillow_data['Name'],zillow_data['Details'],zillow_data['Address'] = name,details,address"
   ]
  },
  {
   "cell_type": "markdown",
   "metadata": {},
   "source": [
    "# Writing the listing info out to a CSV file."
   ]
  },
  {
   "cell_type": "code",
   "execution_count": 78,
   "metadata": {},
   "outputs": [],
   "source": [
    "import pandas as pd"
   ]
  },
  {
   "cell_type": "code",
   "execution_count": 79,
   "metadata": {},
   "outputs": [],
   "source": [
    "# Using Pandas to import the data from the dictionary and transposes it.\n",
    "df = pd.DataFrame.from_dict(zillow_data, orient='index').T"
   ]
  },
  {
   "cell_type": "code",
   "execution_count": 80,
   "metadata": {},
   "outputs": [
    {
     "data": {
      "text/html": [
       "<div>\n",
       "<style scoped>\n",
       "    .dataframe tbody tr th:only-of-type {\n",
       "        vertical-align: middle;\n",
       "    }\n",
       "\n",
       "    .dataframe tbody tr th {\n",
       "        vertical-align: top;\n",
       "    }\n",
       "\n",
       "    .dataframe thead th {\n",
       "        text-align: right;\n",
       "    }\n",
       "</style>\n",
       "<table border=\"1\" class=\"dataframe\">\n",
       "  <thead>\n",
       "    <tr style=\"text-align: right;\">\n",
       "      <th></th>\n",
       "      <th>Name</th>\n",
       "      <th>Details</th>\n",
       "      <th>Address</th>\n",
       "    </tr>\n",
       "  </thead>\n",
       "  <tbody>\n",
       "    <tr>\n",
       "      <th>0</th>\n",
       "      <td>Townhouse for rent</td>\n",
       "      <td>$2,800/mo\\n2 bds3 ba1,600 sqft</td>\n",
       "      <td>4231 Cascade Sky Dr, Arlington, TX 76005</td>\n",
       "    </tr>\n",
       "    <tr>\n",
       "      <th>1</th>\n",
       "      <td>Providence In The Park</td>\n",
       "      <td>$955+ 1 bd$1,230+ 2 bds$1,745+ 3 bds</td>\n",
       "      <td>Providence In The Park | 1601 W Arbrook Blvd, ...</td>\n",
       "    </tr>\n",
       "    <tr>\n",
       "      <th>2</th>\n",
       "      <td>Wimbledon Oaks Apartment Homes</td>\n",
       "      <td>$1,040+ 1 bd$1,425+ 2 bds</td>\n",
       "      <td>Wimbledon Oaks Apartment Homes | 1802 Wimbledo...</td>\n",
       "    </tr>\n",
       "    <tr>\n",
       "      <th>3</th>\n",
       "      <td>House for rent</td>\n",
       "      <td>$1,625/mo\\n3 bds2 ba1,346 sqft</td>\n",
       "      <td>6427 Nicole Way, Arlington, TX 76002</td>\n",
       "    </tr>\n",
       "    <tr>\n",
       "      <th>4</th>\n",
       "      <td>House for rent</td>\n",
       "      <td>$2,900/mo\\n4 bds3.5 ba3,153 sqft</td>\n",
       "      <td>7703 Stevedore St, Arlington, TX 76016</td>\n",
       "    </tr>\n",
       "    <tr>\n",
       "      <th>...</th>\n",
       "      <td>...</td>\n",
       "      <td>...</td>\n",
       "      <td>...</td>\n",
       "    </tr>\n",
       "    <tr>\n",
       "      <th>195</th>\n",
       "      <td>Woodwind</td>\n",
       "      <td>$735+ 1 bd$875+ 2 bds</td>\n",
       "      <td>Woodwind | 1605 S Cooper St, Arlington, TX</td>\n",
       "    </tr>\n",
       "    <tr>\n",
       "      <th>196</th>\n",
       "      <td>The Enclave at Arlington</td>\n",
       "      <td>$800+ 1 bd$1,050+ 2 bds$1,368+ 3 bds</td>\n",
       "      <td>The Enclave at Arlington | 1249 Enclave Cir, A...</td>\n",
       "    </tr>\n",
       "    <tr>\n",
       "      <th>197</th>\n",
       "      <td>Chula Vista Apartments</td>\n",
       "      <td>$730+ 1 bd$920+ 2 bds</td>\n",
       "      <td>Chula Vista Apartments | 1405 Elite Cir, Arlin...</td>\n",
       "    </tr>\n",
       "    <tr>\n",
       "      <th>198</th>\n",
       "      <td>House for rent</td>\n",
       "      <td>$1,800/mo\\n3 bds2 ba1,870 sqft</td>\n",
       "      <td>2622 Meadowview Dr, Arlington, TX 76016</td>\n",
       "    </tr>\n",
       "    <tr>\n",
       "      <th>199</th>\n",
       "      <td>House for rent</td>\n",
       "      <td>$1,575/mo\\n3 bds2 ba1,338 sqft</td>\n",
       "      <td>2507 Arapaho Dr, Arlington, TX 76018</td>\n",
       "    </tr>\n",
       "  </tbody>\n",
       "</table>\n",
       "<p>200 rows × 3 columns</p>\n",
       "</div>"
      ],
      "text/plain": [
       "                               Name                               Details  \\\n",
       "0                Townhouse for rent        $2,800/mo\\n2 bds3 ba1,600 sqft   \n",
       "1            Providence In The Park  $955+ 1 bd$1,230+ 2 bds$1,745+ 3 bds   \n",
       "2    Wimbledon Oaks Apartment Homes             $1,040+ 1 bd$1,425+ 2 bds   \n",
       "3                    House for rent        $1,625/mo\\n3 bds2 ba1,346 sqft   \n",
       "4                    House for rent      $2,900/mo\\n4 bds3.5 ba3,153 sqft   \n",
       "..                              ...                                   ...   \n",
       "195                        Woodwind                 $735+ 1 bd$875+ 2 bds   \n",
       "196        The Enclave at Arlington  $800+ 1 bd$1,050+ 2 bds$1,368+ 3 bds   \n",
       "197          Chula Vista Apartments                 $730+ 1 bd$920+ 2 bds   \n",
       "198                  House for rent        $1,800/mo\\n3 bds2 ba1,870 sqft   \n",
       "199                  House for rent        $1,575/mo\\n3 bds2 ba1,338 sqft   \n",
       "\n",
       "                                               Address  \n",
       "0             4231 Cascade Sky Dr, Arlington, TX 76005  \n",
       "1    Providence In The Park | 1601 W Arbrook Blvd, ...  \n",
       "2    Wimbledon Oaks Apartment Homes | 1802 Wimbledo...  \n",
       "3                 6427 Nicole Way, Arlington, TX 76002  \n",
       "4               7703 Stevedore St, Arlington, TX 76016  \n",
       "..                                                 ...  \n",
       "195         Woodwind | 1605 S Cooper St, Arlington, TX  \n",
       "196  The Enclave at Arlington | 1249 Enclave Cir, A...  \n",
       "197  Chula Vista Apartments | 1405 Elite Cir, Arlin...  \n",
       "198            2622 Meadowview Dr, Arlington, TX 76016  \n",
       "199               2507 Arapaho Dr, Arlington, TX 76018  \n",
       "\n",
       "[200 rows x 3 columns]"
      ]
     },
     "execution_count": 80,
     "metadata": {},
     "output_type": "execute_result"
    }
   ],
   "source": [
    "# Visualization of CSV file.\n",
    "df"
   ]
  }
 ],
 "metadata": {
  "kernelspec": {
   "display_name": "Python 3",
   "language": "python",
   "name": "python3"
  },
  "language_info": {
   "codemirror_mode": {
    "name": "ipython",
    "version": 3
   },
   "file_extension": ".py",
   "mimetype": "text/x-python",
   "name": "python",
   "nbconvert_exporter": "python",
   "pygments_lexer": "ipython3",
   "version": "3.7.6"
  }
 },
 "nbformat": 4,
 "nbformat_minor": 4
}
